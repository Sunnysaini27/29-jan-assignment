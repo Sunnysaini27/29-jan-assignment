{
 "cells": [
  {
   "cell_type": "code",
   "execution_count": null,
   "id": "06dac299-7db7-4321-a22e-86bae81338e2",
   "metadata": {},
   "outputs": [],
   "source": [
    "1).  Guido van Rossum.\n",
    "2). Scripting languages and Object-oriented programming languages.\n",
    "3).  yes\n",
    "4).  .py\n",
    "5). Compiled as well as interpreted\n",
    "6). if(condition):\n",
    "        statement 1\n",
    "        statement 2\n",
    "    else:\n",
    "        statement 3\n",
    "        statement 4\n",
    "7).   #  Hash    \n",
    "8).   python --version     OR\n",
    "      python -V\n",
    "9). lambda\n",
    "10). Its PIP and it is stands for Pip Installs Python or PIP Installs Packages\n",
    "11). input()\n",
    "     print()\n",
    "     type()\n",
    "12).  79\n",
    "13).  1. Work with less code\n",
    "      2. Object-oriented programming\n",
    "      3. Easy read ability\n",
    "      4. Easy Syntax\n",
    "14).  All the datatypes, functions, etc get automatically converted to the object data type and get stored in the heap memory. The       references to those are stored in the stack memory. There are 2 types of memory allocation in python.\n",
    "      Static memory allocation -: In the static memory allocation type, the memory allocation happens at the time of compilation.                                     We cannot use this memory in the later programs.\n",
    "      Dynamic memory allocation -:In the dynamic memory allocation type, the memory allocation happens at the program’s run time.                                     This type of memory allocation uses memory efficiently as allocated memory can be changed                                           according to the need.\n",
    "15). you need to download the official \"Python executable installer\". Next, you need to \"run\" this installer and complete the            installation steps.\n",
    "     you can set the PATH variable to use python from the command line.\n",
    "16). yes"
   ]
  }
 ],
 "metadata": {
  "kernelspec": {
   "display_name": "Python 3 (ipykernel)",
   "language": "python",
   "name": "python3"
  },
  "language_info": {
   "codemirror_mode": {
    "name": "ipython",
    "version": 3
   },
   "file_extension": ".py",
   "mimetype": "text/x-python",
   "name": "python",
   "nbconvert_exporter": "python",
   "pygments_lexer": "ipython3",
   "version": "3.10.6"
  }
 },
 "nbformat": 4,
 "nbformat_minor": 5
}
