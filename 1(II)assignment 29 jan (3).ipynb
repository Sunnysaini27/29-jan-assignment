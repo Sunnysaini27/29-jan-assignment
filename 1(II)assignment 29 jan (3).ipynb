{
 "cells": [
  {
   "cell_type": "raw",
   "id": "e54b38f2-a956-49e5-8fdc-f4a0c1c32eac",
   "metadata": {},
   "source": [
    "1).  Guido van Rossum."
   ]
  },
  {
   "cell_type": "raw",
   "id": "4dc6b3aa-82ad-4047-9696-9015ea138ace",
   "metadata": {},
   "source": [
    "2). Scripting languages and Object-oriented programming languages."
   ]
  },
  {
   "cell_type": "raw",
   "id": "a1bfc826-a452-4510-b19b-79d5812e6c8b",
   "metadata": {},
   "source": [
    "3).  yes"
   ]
  },
  {
   "cell_type": "raw",
   "id": "0548a960-c4b7-48e2-b4e4-d708c825789e",
   "metadata": {},
   "source": [
    "4).  .py"
   ]
  },
  {
   "cell_type": "raw",
   "id": "fde7f571-0de2-46df-ae13-db4d15e9c352",
   "metadata": {},
   "source": [
    "5). Compiled as well as interpreted"
   ]
  },
  {
   "cell_type": "raw",
   "id": "652c21ac-8ee5-400d-9c51-338b9891aa63",
   "metadata": {},
   "source": [
    "6). if(condition):\n",
    "        statement 1\n",
    "        statement 2\n",
    "    else:\n",
    "        statement 3\n",
    "        statement 4"
   ]
  },
  {
   "cell_type": "raw",
   "id": "792711b9-498f-4eb1-8d65-508d97bee613",
   "metadata": {},
   "source": [
    "7).   #  Hash"
   ]
  },
  {
   "cell_type": "raw",
   "id": "79771dc1-5535-42dc-bcd0-79a2bc547a2f",
   "metadata": {},
   "source": [
    "8).   python --version     OR\n",
    "      python -V"
   ]
  },
  {
   "cell_type": "raw",
   "id": "7a1f8641-0dca-4912-82cf-66b17e39dc3e",
   "metadata": {},
   "source": [
    "9). lambda"
   ]
  },
  {
   "cell_type": "raw",
   "id": "5dbabf6e-15a0-4447-b890-911fa6263624",
   "metadata": {},
   "source": [
    "10). Its PIP and it is stands for Pip Installs Python or PIP Installs Packages"
   ]
  },
  {
   "cell_type": "raw",
   "id": "254d81c0-c95a-4d15-8ae2-882b456daf41",
   "metadata": {},
   "source": [
    "11). input()\n",
    "     print()\n",
    "     type()"
   ]
  },
  {
   "cell_type": "raw",
   "id": "2ac0e802-fa3f-475d-b935-f1c8e52e7b60",
   "metadata": {},
   "source": [
    "12).  79"
   ]
  },
  {
   "cell_type": "raw",
   "id": "d011d545-6177-4790-bb97-a2cbe494679d",
   "metadata": {},
   "source": [
    "13).  1. Work with less code\n",
    "      2. Object-oriented programming\n",
    "      3. Easy read ability\n",
    "      4. Easy Syntax"
   ]
  },
  {
   "cell_type": "raw",
   "id": "d05444bb-8053-4879-b325-d2776b46116f",
   "metadata": {},
   "source": [
    "14).  All the datatypes, functions, etc get automatically converted to the object data type and get stored in the heap memory. The       references to those are stored in the stack memory. There are 2 types of memory allocation in python.\n",
    "      Static memory allocation -: In the static memory allocation type, the memory allocation happens at the time of compilation.                                     We cannot use this memory in the later programs.\n",
    "      Dynamic memory allocation -:In the dynamic memory allocation type, the memory allocation happens at the program’s run time.                                     This type of memory allocation uses memory efficiently as allocated memory can be changed                                           according to the need."
   ]
  },
  {
   "cell_type": "raw",
   "id": "e2651d9b-60c5-46b2-83b0-70ec8fe4e99e",
   "metadata": {},
   "source": [
    "15). you need to download the official \"Python executable installer\". Next, you need to \"run\" this installer and complete the            installation steps.\n",
    "     you can set the PATH variable to use python from the command line."
   ]
  },
  {
   "cell_type": "raw",
   "id": "90f53a03-1cb5-4c23-826c-16b1f79a313d",
   "metadata": {},
   "source": [
    "16). yes"
   ]
  }
 ],
 "metadata": {
  "kernelspec": {
   "display_name": "Python 3 (ipykernel)",
   "language": "python",
   "name": "python3"
  },
  "language_info": {
   "codemirror_mode": {
    "name": "ipython",
    "version": 3
   },
   "file_extension": ".py",
   "mimetype": "text/x-python",
   "name": "python",
   "nbconvert_exporter": "python",
   "pygments_lexer": "ipython3",
   "version": "3.10.6"
  }
 },
 "nbformat": 4,
 "nbformat_minor": 5
}
